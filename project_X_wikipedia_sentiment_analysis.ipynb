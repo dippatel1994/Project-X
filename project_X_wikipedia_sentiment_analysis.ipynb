{
  "nbformat": 4,
  "nbformat_minor": 0,
  "metadata": {
    "colab": {
      "name": "project_X_wikipedia_sentiment_analysis.ipynb",
      "provenance": [],
      "collapsed_sections": [],
      "include_colab_link": true
    },
    "kernelspec": {
      "name": "python3",
      "display_name": "Python 3"
    },
    "language_info": {
      "name": "python"
    }
  },
  "cells": [
    {
      "cell_type": "markdown",
      "metadata": {
        "id": "view-in-github",
        "colab_type": "text"
      },
      "source": [
        "<a href=\"https://colab.research.google.com/github/dippatel1994/Project-X/blob/master/project_X_wikipedia_sentiment_analysis.ipynb\" target=\"_parent\"><img src=\"https://colab.research.google.com/assets/colab-badge.svg\" alt=\"Open In Colab\"/></a>"
      ]
    },
    {
      "cell_type": "code",
      "source": [
        "pip install scikit-multilearn"
      ],
      "metadata": {
        "colab": {
          "base_uri": "https://localhost:8080/"
        },
        "id": "63w4fCvVMFtt",
        "outputId": "ba2860fe-31c8-42f2-f168-5e99c65c6a87"
      },
      "execution_count": 1,
      "outputs": [
        {
          "output_type": "stream",
          "name": "stdout",
          "text": [
            "Looking in indexes: https://pypi.org/simple, https://us-python.pkg.dev/colab-wheels/public/simple/\n",
            "Collecting scikit-multilearn\n",
            "  Downloading scikit_multilearn-0.2.0-py3-none-any.whl (89 kB)\n",
            "\u001b[K     |████████████████████████████████| 89 kB 3.6 MB/s \n",
            "\u001b[?25hInstalling collected packages: scikit-multilearn\n",
            "Successfully installed scikit-multilearn-0.2.0\n"
          ]
        }
      ]
    },
    {
      "cell_type": "markdown",
      "source": [
        "# Project description\n",
        "\n",
        "Attached here is a dataset of Wikipedia comments which have been labeled by human raters for toxic behavior. The types of toxicity are:\n",
        "\n",
        "- toxic\n",
        "- severe_toxic\n",
        "- obscene\n",
        "- threat\n",
        "- insult\n",
        "- identity_hate\n",
        "\n",
        "You must create a model which predicts a probability of each type of toxicity for each comment.\n"
      ],
      "metadata": {
        "id": "J9MY9SFD4b1Z"
      }
    },
    {
      "cell_type": "markdown",
      "source": [
        "### Import libraries"
      ],
      "metadata": {
        "id": "R6vmxpnaOhJm"
      }
    },
    {
      "cell_type": "code",
      "source": [
        "from sklearn.model_selection import train_test_split, cross_val_score\n",
        "from sklearn.feature_extraction.text import TfidfVectorizer\n",
        "from sklearn.linear_model import LogisticRegression\n",
        "from sklearn.metrics import confusion_matrix, ConfusionMatrixDisplay, accuracy_score, f1_score, classification_report, roc_auc_score\n",
        "from sklearn.metrics import roc_auc_score , accuracy_score , confusion_matrix , f1_score\n",
        "from sklearn.multiclass import OneVsRestClassifier\n",
        "import random\n",
        "from sklearn.datasets import make_classification\n",
        "from sklearn.neighbors import NearestNeighbors\n",
        "import numpy as np"
      ],
      "metadata": {
        "id": "o7HmAubiw-uI"
      },
      "execution_count": 2,
      "outputs": []
    },
    {
      "cell_type": "markdown",
      "source": [
        "### Load dataset into dataframe"
      ],
      "metadata": {
        "id": "X9Hmqm6TPO3l"
      }
    },
    {
      "cell_type": "code",
      "source": [
        "from google.colab import drive\n",
        "import pandas as pd\n",
        "\n",
        "drive.mount('/content/drive')\n",
        "df = pd.read_excel('/content/drive/My Drive/project_x/toxic_comment_dataset.xlsx')"
      ],
      "metadata": {
        "colab": {
          "base_uri": "https://localhost:8080/"
        },
        "id": "5WWkylZd4nUX",
        "outputId": "5990c7de-b699-4f55-8f9f-d9f9ee096753"
      },
      "execution_count": 3,
      "outputs": [
        {
          "output_type": "stream",
          "name": "stdout",
          "text": [
            "Mounted at /content/drive\n"
          ]
        }
      ]
    },
    {
      "cell_type": "markdown",
      "source": [
        "### Analyse data"
      ],
      "metadata": {
        "id": "KBPWJYpmPaSi"
      }
    },
    {
      "cell_type": "code",
      "source": [
        "df.head()"
      ],
      "metadata": {
        "colab": {
          "base_uri": "https://localhost:8080/",
          "height": 206
        },
        "id": "4taHs6fjPkU0",
        "outputId": "953dfb5f-46a7-4e4e-d288-78f4ebbe951d"
      },
      "execution_count": 4,
      "outputs": [
        {
          "output_type": "execute_result",
          "data": {
            "text/plain": [
              "                 id                                       comment_text  toxic  \\\n",
              "0  0000997932d777bf  Explanation\\nWhy the edits made under my usern...      0   \n",
              "1  000103f0d9cfb60f  D'aww! He matches this background colour I'm s...      0   \n",
              "2  000113f07ec002fd  Hey man, I'm really not trying to edit war. It...      0   \n",
              "3  0001b41b1c6bb37e  \"\\nMore\\nI can't make any real suggestions on ...      0   \n",
              "4  0001d958c54c6e35  You, sir, are my hero. Any chance you remember...      0   \n",
              "\n",
              "   severe_toxic  obscene  threat  insult  identity_hate  \n",
              "0             0        0       0       0              0  \n",
              "1             0        0       0       0              0  \n",
              "2             0        0       0       0              0  \n",
              "3             0        0       0       0              0  \n",
              "4             0        0       0       0              0  "
            ],
            "text/html": [
              "\n",
              "  <div id=\"df-3f521d50-e864-46c3-a90e-06adb22051b1\">\n",
              "    <div class=\"colab-df-container\">\n",
              "      <div>\n",
              "<style scoped>\n",
              "    .dataframe tbody tr th:only-of-type {\n",
              "        vertical-align: middle;\n",
              "    }\n",
              "\n",
              "    .dataframe tbody tr th {\n",
              "        vertical-align: top;\n",
              "    }\n",
              "\n",
              "    .dataframe thead th {\n",
              "        text-align: right;\n",
              "    }\n",
              "</style>\n",
              "<table border=\"1\" class=\"dataframe\">\n",
              "  <thead>\n",
              "    <tr style=\"text-align: right;\">\n",
              "      <th></th>\n",
              "      <th>id</th>\n",
              "      <th>comment_text</th>\n",
              "      <th>toxic</th>\n",
              "      <th>severe_toxic</th>\n",
              "      <th>obscene</th>\n",
              "      <th>threat</th>\n",
              "      <th>insult</th>\n",
              "      <th>identity_hate</th>\n",
              "    </tr>\n",
              "  </thead>\n",
              "  <tbody>\n",
              "    <tr>\n",
              "      <th>0</th>\n",
              "      <td>0000997932d777bf</td>\n",
              "      <td>Explanation\\nWhy the edits made under my usern...</td>\n",
              "      <td>0</td>\n",
              "      <td>0</td>\n",
              "      <td>0</td>\n",
              "      <td>0</td>\n",
              "      <td>0</td>\n",
              "      <td>0</td>\n",
              "    </tr>\n",
              "    <tr>\n",
              "      <th>1</th>\n",
              "      <td>000103f0d9cfb60f</td>\n",
              "      <td>D'aww! He matches this background colour I'm s...</td>\n",
              "      <td>0</td>\n",
              "      <td>0</td>\n",
              "      <td>0</td>\n",
              "      <td>0</td>\n",
              "      <td>0</td>\n",
              "      <td>0</td>\n",
              "    </tr>\n",
              "    <tr>\n",
              "      <th>2</th>\n",
              "      <td>000113f07ec002fd</td>\n",
              "      <td>Hey man, I'm really not trying to edit war. It...</td>\n",
              "      <td>0</td>\n",
              "      <td>0</td>\n",
              "      <td>0</td>\n",
              "      <td>0</td>\n",
              "      <td>0</td>\n",
              "      <td>0</td>\n",
              "    </tr>\n",
              "    <tr>\n",
              "      <th>3</th>\n",
              "      <td>0001b41b1c6bb37e</td>\n",
              "      <td>\"\\nMore\\nI can't make any real suggestions on ...</td>\n",
              "      <td>0</td>\n",
              "      <td>0</td>\n",
              "      <td>0</td>\n",
              "      <td>0</td>\n",
              "      <td>0</td>\n",
              "      <td>0</td>\n",
              "    </tr>\n",
              "    <tr>\n",
              "      <th>4</th>\n",
              "      <td>0001d958c54c6e35</td>\n",
              "      <td>You, sir, are my hero. Any chance you remember...</td>\n",
              "      <td>0</td>\n",
              "      <td>0</td>\n",
              "      <td>0</td>\n",
              "      <td>0</td>\n",
              "      <td>0</td>\n",
              "      <td>0</td>\n",
              "    </tr>\n",
              "  </tbody>\n",
              "</table>\n",
              "</div>\n",
              "      <button class=\"colab-df-convert\" onclick=\"convertToInteractive('df-3f521d50-e864-46c3-a90e-06adb22051b1')\"\n",
              "              title=\"Convert this dataframe to an interactive table.\"\n",
              "              style=\"display:none;\">\n",
              "        \n",
              "  <svg xmlns=\"http://www.w3.org/2000/svg\" height=\"24px\"viewBox=\"0 0 24 24\"\n",
              "       width=\"24px\">\n",
              "    <path d=\"M0 0h24v24H0V0z\" fill=\"none\"/>\n",
              "    <path d=\"M18.56 5.44l.94 2.06.94-2.06 2.06-.94-2.06-.94-.94-2.06-.94 2.06-2.06.94zm-11 1L8.5 8.5l.94-2.06 2.06-.94-2.06-.94L8.5 2.5l-.94 2.06-2.06.94zm10 10l.94 2.06.94-2.06 2.06-.94-2.06-.94-.94-2.06-.94 2.06-2.06.94z\"/><path d=\"M17.41 7.96l-1.37-1.37c-.4-.4-.92-.59-1.43-.59-.52 0-1.04.2-1.43.59L10.3 9.45l-7.72 7.72c-.78.78-.78 2.05 0 2.83L4 21.41c.39.39.9.59 1.41.59.51 0 1.02-.2 1.41-.59l7.78-7.78 2.81-2.81c.8-.78.8-2.07 0-2.86zM5.41 20L4 18.59l7.72-7.72 1.47 1.35L5.41 20z\"/>\n",
              "  </svg>\n",
              "      </button>\n",
              "      \n",
              "  <style>\n",
              "    .colab-df-container {\n",
              "      display:flex;\n",
              "      flex-wrap:wrap;\n",
              "      gap: 12px;\n",
              "    }\n",
              "\n",
              "    .colab-df-convert {\n",
              "      background-color: #E8F0FE;\n",
              "      border: none;\n",
              "      border-radius: 50%;\n",
              "      cursor: pointer;\n",
              "      display: none;\n",
              "      fill: #1967D2;\n",
              "      height: 32px;\n",
              "      padding: 0 0 0 0;\n",
              "      width: 32px;\n",
              "    }\n",
              "\n",
              "    .colab-df-convert:hover {\n",
              "      background-color: #E2EBFA;\n",
              "      box-shadow: 0px 1px 2px rgba(60, 64, 67, 0.3), 0px 1px 3px 1px rgba(60, 64, 67, 0.15);\n",
              "      fill: #174EA6;\n",
              "    }\n",
              "\n",
              "    [theme=dark] .colab-df-convert {\n",
              "      background-color: #3B4455;\n",
              "      fill: #D2E3FC;\n",
              "    }\n",
              "\n",
              "    [theme=dark] .colab-df-convert:hover {\n",
              "      background-color: #434B5C;\n",
              "      box-shadow: 0px 1px 3px 1px rgba(0, 0, 0, 0.15);\n",
              "      filter: drop-shadow(0px 1px 2px rgba(0, 0, 0, 0.3));\n",
              "      fill: #FFFFFF;\n",
              "    }\n",
              "  </style>\n",
              "\n",
              "      <script>\n",
              "        const buttonEl =\n",
              "          document.querySelector('#df-3f521d50-e864-46c3-a90e-06adb22051b1 button.colab-df-convert');\n",
              "        buttonEl.style.display =\n",
              "          google.colab.kernel.accessAllowed ? 'block' : 'none';\n",
              "\n",
              "        async function convertToInteractive(key) {\n",
              "          const element = document.querySelector('#df-3f521d50-e864-46c3-a90e-06adb22051b1');\n",
              "          const dataTable =\n",
              "            await google.colab.kernel.invokeFunction('convertToInteractive',\n",
              "                                                     [key], {});\n",
              "          if (!dataTable) return;\n",
              "\n",
              "          const docLinkHtml = 'Like what you see? Visit the ' +\n",
              "            '<a target=\"_blank\" href=https://colab.research.google.com/notebooks/data_table.ipynb>data table notebook</a>'\n",
              "            + ' to learn more about interactive tables.';\n",
              "          element.innerHTML = '';\n",
              "          dataTable['output_type'] = 'display_data';\n",
              "          await google.colab.output.renderOutput(dataTable, element);\n",
              "          const docLink = document.createElement('div');\n",
              "          docLink.innerHTML = docLinkHtml;\n",
              "          element.appendChild(docLink);\n",
              "        }\n",
              "      </script>\n",
              "    </div>\n",
              "  </div>\n",
              "  "
            ]
          },
          "metadata": {},
          "execution_count": 4
        }
      ]
    },
    {
      "cell_type": "code",
      "source": [
        "# null value check\n",
        "df.isnull().sum()"
      ],
      "metadata": {
        "colab": {
          "base_uri": "https://localhost:8080/"
        },
        "id": "MHxatDWHnK1f",
        "outputId": "44a6a29d-c351-48be-98e5-6b91f6fb868c"
      },
      "execution_count": 5,
      "outputs": [
        {
          "output_type": "execute_result",
          "data": {
            "text/plain": [
              "id                 0\n",
              "comment_text     122\n",
              "toxic              0\n",
              "severe_toxic       0\n",
              "obscene            0\n",
              "threat             0\n",
              "insult             0\n",
              "identity_hate      0\n",
              "dtype: int64"
            ]
          },
          "metadata": {},
          "execution_count": 5
        }
      ]
    },
    {
      "cell_type": "code",
      "source": [
        "# find the percenatage of null value for comment_text\n",
        "print(\"Total % of null value for comment_text: \", (df['comment_text'].isnull().sum()/ len(df))*100, \"%\" )"
      ],
      "metadata": {
        "colab": {
          "base_uri": "https://localhost:8080/"
        },
        "id": "jesH6PAlnN7R",
        "outputId": "be4190a8-3674-47f3-a044-3783df61e7a1"
      },
      "execution_count": 6,
      "outputs": [
        {
          "output_type": "stream",
          "name": "stdout",
          "text": [
            "Total % of null value for comment_text:  0.0764549949552237 %\n"
          ]
        }
      ]
    },
    {
      "cell_type": "code",
      "source": [
        "# remove null value since it is 0.07% only\n",
        "df = df.dropna()\n",
        "df.isnull().sum()"
      ],
      "metadata": {
        "colab": {
          "base_uri": "https://localhost:8080/"
        },
        "id": "E0aS1EBPnOgq",
        "outputId": "5894ef47-24d6-402d-fb7a-17f1872b4233"
      },
      "execution_count": 7,
      "outputs": [
        {
          "output_type": "execute_result",
          "data": {
            "text/plain": [
              "id               0\n",
              "comment_text     0\n",
              "toxic            0\n",
              "severe_toxic     0\n",
              "obscene          0\n",
              "threat           0\n",
              "insult           0\n",
              "identity_hate    0\n",
              "dtype: int64"
            ]
          },
          "metadata": {},
          "execution_count": 7
        }
      ]
    },
    {
      "cell_type": "code",
      "source": [
        "df.describe()"
      ],
      "metadata": {
        "colab": {
          "base_uri": "https://localhost:8080/",
          "height": 300
        },
        "id": "ym93zlW6nQGS",
        "outputId": "5744c3b7-3218-4505-beaa-73e94786011e"
      },
      "execution_count": 8,
      "outputs": [
        {
          "output_type": "execute_result",
          "data": {
            "text/plain": [
              "               toxic   severe_toxic        obscene         threat  \\\n",
              "count  159449.000000  159449.000000  159449.000000  159449.000000   \n",
              "mean        0.095755       0.009991       0.052882       0.002979   \n",
              "std         0.294256       0.099453       0.223799       0.054499   \n",
              "min         0.000000       0.000000       0.000000       0.000000   \n",
              "25%         0.000000       0.000000       0.000000       0.000000   \n",
              "50%         0.000000       0.000000       0.000000       0.000000   \n",
              "75%         0.000000       0.000000       0.000000       0.000000   \n",
              "max         1.000000       1.000000       1.000000       1.000000   \n",
              "\n",
              "              insult  identity_hate  \n",
              "count  159449.000000  159449.000000  \n",
              "mean        0.049326       0.008805  \n",
              "std         0.216549       0.093423  \n",
              "min         0.000000       0.000000  \n",
              "25%         0.000000       0.000000  \n",
              "50%         0.000000       0.000000  \n",
              "75%         0.000000       0.000000  \n",
              "max         1.000000       1.000000  "
            ],
            "text/html": [
              "\n",
              "  <div id=\"df-75f2255d-1356-43dd-96ec-d681f691032f\">\n",
              "    <div class=\"colab-df-container\">\n",
              "      <div>\n",
              "<style scoped>\n",
              "    .dataframe tbody tr th:only-of-type {\n",
              "        vertical-align: middle;\n",
              "    }\n",
              "\n",
              "    .dataframe tbody tr th {\n",
              "        vertical-align: top;\n",
              "    }\n",
              "\n",
              "    .dataframe thead th {\n",
              "        text-align: right;\n",
              "    }\n",
              "</style>\n",
              "<table border=\"1\" class=\"dataframe\">\n",
              "  <thead>\n",
              "    <tr style=\"text-align: right;\">\n",
              "      <th></th>\n",
              "      <th>toxic</th>\n",
              "      <th>severe_toxic</th>\n",
              "      <th>obscene</th>\n",
              "      <th>threat</th>\n",
              "      <th>insult</th>\n",
              "      <th>identity_hate</th>\n",
              "    </tr>\n",
              "  </thead>\n",
              "  <tbody>\n",
              "    <tr>\n",
              "      <th>count</th>\n",
              "      <td>159449.000000</td>\n",
              "      <td>159449.000000</td>\n",
              "      <td>159449.000000</td>\n",
              "      <td>159449.000000</td>\n",
              "      <td>159449.000000</td>\n",
              "      <td>159449.000000</td>\n",
              "    </tr>\n",
              "    <tr>\n",
              "      <th>mean</th>\n",
              "      <td>0.095755</td>\n",
              "      <td>0.009991</td>\n",
              "      <td>0.052882</td>\n",
              "      <td>0.002979</td>\n",
              "      <td>0.049326</td>\n",
              "      <td>0.008805</td>\n",
              "    </tr>\n",
              "    <tr>\n",
              "      <th>std</th>\n",
              "      <td>0.294256</td>\n",
              "      <td>0.099453</td>\n",
              "      <td>0.223799</td>\n",
              "      <td>0.054499</td>\n",
              "      <td>0.216549</td>\n",
              "      <td>0.093423</td>\n",
              "    </tr>\n",
              "    <tr>\n",
              "      <th>min</th>\n",
              "      <td>0.000000</td>\n",
              "      <td>0.000000</td>\n",
              "      <td>0.000000</td>\n",
              "      <td>0.000000</td>\n",
              "      <td>0.000000</td>\n",
              "      <td>0.000000</td>\n",
              "    </tr>\n",
              "    <tr>\n",
              "      <th>25%</th>\n",
              "      <td>0.000000</td>\n",
              "      <td>0.000000</td>\n",
              "      <td>0.000000</td>\n",
              "      <td>0.000000</td>\n",
              "      <td>0.000000</td>\n",
              "      <td>0.000000</td>\n",
              "    </tr>\n",
              "    <tr>\n",
              "      <th>50%</th>\n",
              "      <td>0.000000</td>\n",
              "      <td>0.000000</td>\n",
              "      <td>0.000000</td>\n",
              "      <td>0.000000</td>\n",
              "      <td>0.000000</td>\n",
              "      <td>0.000000</td>\n",
              "    </tr>\n",
              "    <tr>\n",
              "      <th>75%</th>\n",
              "      <td>0.000000</td>\n",
              "      <td>0.000000</td>\n",
              "      <td>0.000000</td>\n",
              "      <td>0.000000</td>\n",
              "      <td>0.000000</td>\n",
              "      <td>0.000000</td>\n",
              "    </tr>\n",
              "    <tr>\n",
              "      <th>max</th>\n",
              "      <td>1.000000</td>\n",
              "      <td>1.000000</td>\n",
              "      <td>1.000000</td>\n",
              "      <td>1.000000</td>\n",
              "      <td>1.000000</td>\n",
              "      <td>1.000000</td>\n",
              "    </tr>\n",
              "  </tbody>\n",
              "</table>\n",
              "</div>\n",
              "      <button class=\"colab-df-convert\" onclick=\"convertToInteractive('df-75f2255d-1356-43dd-96ec-d681f691032f')\"\n",
              "              title=\"Convert this dataframe to an interactive table.\"\n",
              "              style=\"display:none;\">\n",
              "        \n",
              "  <svg xmlns=\"http://www.w3.org/2000/svg\" height=\"24px\"viewBox=\"0 0 24 24\"\n",
              "       width=\"24px\">\n",
              "    <path d=\"M0 0h24v24H0V0z\" fill=\"none\"/>\n",
              "    <path d=\"M18.56 5.44l.94 2.06.94-2.06 2.06-.94-2.06-.94-.94-2.06-.94 2.06-2.06.94zm-11 1L8.5 8.5l.94-2.06 2.06-.94-2.06-.94L8.5 2.5l-.94 2.06-2.06.94zm10 10l.94 2.06.94-2.06 2.06-.94-2.06-.94-.94-2.06-.94 2.06-2.06.94z\"/><path d=\"M17.41 7.96l-1.37-1.37c-.4-.4-.92-.59-1.43-.59-.52 0-1.04.2-1.43.59L10.3 9.45l-7.72 7.72c-.78.78-.78 2.05 0 2.83L4 21.41c.39.39.9.59 1.41.59.51 0 1.02-.2 1.41-.59l7.78-7.78 2.81-2.81c.8-.78.8-2.07 0-2.86zM5.41 20L4 18.59l7.72-7.72 1.47 1.35L5.41 20z\"/>\n",
              "  </svg>\n",
              "      </button>\n",
              "      \n",
              "  <style>\n",
              "    .colab-df-container {\n",
              "      display:flex;\n",
              "      flex-wrap:wrap;\n",
              "      gap: 12px;\n",
              "    }\n",
              "\n",
              "    .colab-df-convert {\n",
              "      background-color: #E8F0FE;\n",
              "      border: none;\n",
              "      border-radius: 50%;\n",
              "      cursor: pointer;\n",
              "      display: none;\n",
              "      fill: #1967D2;\n",
              "      height: 32px;\n",
              "      padding: 0 0 0 0;\n",
              "      width: 32px;\n",
              "    }\n",
              "\n",
              "    .colab-df-convert:hover {\n",
              "      background-color: #E2EBFA;\n",
              "      box-shadow: 0px 1px 2px rgba(60, 64, 67, 0.3), 0px 1px 3px 1px rgba(60, 64, 67, 0.15);\n",
              "      fill: #174EA6;\n",
              "    }\n",
              "\n",
              "    [theme=dark] .colab-df-convert {\n",
              "      background-color: #3B4455;\n",
              "      fill: #D2E3FC;\n",
              "    }\n",
              "\n",
              "    [theme=dark] .colab-df-convert:hover {\n",
              "      background-color: #434B5C;\n",
              "      box-shadow: 0px 1px 3px 1px rgba(0, 0, 0, 0.15);\n",
              "      filter: drop-shadow(0px 1px 2px rgba(0, 0, 0, 0.3));\n",
              "      fill: #FFFFFF;\n",
              "    }\n",
              "  </style>\n",
              "\n",
              "      <script>\n",
              "        const buttonEl =\n",
              "          document.querySelector('#df-75f2255d-1356-43dd-96ec-d681f691032f button.colab-df-convert');\n",
              "        buttonEl.style.display =\n",
              "          google.colab.kernel.accessAllowed ? 'block' : 'none';\n",
              "\n",
              "        async function convertToInteractive(key) {\n",
              "          const element = document.querySelector('#df-75f2255d-1356-43dd-96ec-d681f691032f');\n",
              "          const dataTable =\n",
              "            await google.colab.kernel.invokeFunction('convertToInteractive',\n",
              "                                                     [key], {});\n",
              "          if (!dataTable) return;\n",
              "\n",
              "          const docLinkHtml = 'Like what you see? Visit the ' +\n",
              "            '<a target=\"_blank\" href=https://colab.research.google.com/notebooks/data_table.ipynb>data table notebook</a>'\n",
              "            + ' to learn more about interactive tables.';\n",
              "          element.innerHTML = '';\n",
              "          dataTable['output_type'] = 'display_data';\n",
              "          await google.colab.output.renderOutput(dataTable, element);\n",
              "          const docLink = document.createElement('div');\n",
              "          docLink.innerHTML = docLinkHtml;\n",
              "          element.appendChild(docLink);\n",
              "        }\n",
              "      </script>\n",
              "    </div>\n",
              "  </div>\n",
              "  "
            ]
          },
          "metadata": {},
          "execution_count": 8
        }
      ]
    },
    {
      "cell_type": "markdown",
      "source": [
        "From describe() the low mean is indicating only few comments are actually classified"
      ],
      "metadata": {
        "id": "7oGhiJ0AQK4G"
      }
    },
    {
      "cell_type": "code",
      "source": [
        "# Total count of un-classified comment data\n",
        "count = len(df[(df['toxic']!=1) & (df['severe_toxic']!=1) & (df['obscene']!=1) & \n",
        "                            (df['threat']!=1) & (df['insult']!=1) & (df['identity_hate']!=1)])\n",
        "\n",
        "print(\"Total count: \", count)\n",
        "print(\"% of un-classified comments: \", (count/len(df))*100,\"%\" )"
      ],
      "metadata": {
        "colab": {
          "base_uri": "https://localhost:8080/"
        },
        "id": "AnZeRpAznR4K",
        "outputId": "143b5418-1531-40b1-fb8d-c25e372445c2"
      },
      "execution_count": 9,
      "outputs": [
        {
          "output_type": "stream",
          "name": "stdout",
          "text": [
            "Total count:  143250\n",
            "% of un-classified comments:  89.84063869952148 %\n"
          ]
        }
      ]
    },
    {
      "cell_type": "code",
      "source": [
        "# Count of each category\n",
        "from matplotlib import pyplot as plt\n",
        "%matplotlib inline\n",
        "import seaborn as sns\n",
        "\n",
        "#Count of each category\n",
        "cols_target = ['obscene','insult','toxic','severe_toxic','identity_hate','threat']\n",
        "count = []\n",
        "color = ['pink','aqua','red','olive','purple','orange']\n",
        "for i in cols_target:\n",
        "  count.append((i,df[i].sum()))\n",
        "\n",
        "data = pd.DataFrame(count, columns = [\"category\", \"count\"])\n",
        "\n",
        "data.plot(x=\"category\", y=\"count\", kind=\"bar\", color = color,legend=None)\n",
        "plt.title(\"Count of each categoty\")\n",
        "plt.show()\n",
        "\n",
        "print(df[cols_target].sum())"
      ],
      "metadata": {
        "colab": {
          "base_uri": "https://localhost:8080/",
          "height": 477
        },
        "id": "k77b1UXAnTYk",
        "outputId": "036576f0-1532-41ad-8c10-6f47f71820d5"
      },
      "execution_count": 10,
      "outputs": [
        {
          "output_type": "display_data",
          "data": {
            "text/plain": [
              "<Figure size 432x288 with 1 Axes>"
            ],
            "image/png": "[encoded data removed]"
          },
          "metadata": {
            "needs_background": "light"
          }
        },
        {
          "output_type": "stream",
          "name": "stdout",
          "text": [
            "obscene           8432\n",
            "insult            7865\n",
            "toxic            15268\n",
            "severe_toxic      1593\n",
            "identity_hate     1404\n",
            "threat             475\n",
            "dtype: int64\n"
          ]
        }
      ]
    },
    {
      "cell_type": "markdown",
      "source": [
        "From above chart it is clear that data is higly imbalance "
      ],
      "metadata": {
        "id": "ZnwgaEUhRDhH"
      }
    },
    {
      "cell_type": "code",
      "source": [
        "# Correlation of categories\n",
        "plt.figure(figsize=(7,7))\n",
        "plt.title('Correlation of each category',y=1.05,size=14)\n",
        "sns.heatmap(df[cols_target].astype(float).corr(),linewidths=0.1,vmax=1.0,square=True,\n",
        "           linecolor='white',annot=True)\n",
        "plt.show()"
      ],
      "metadata": {
        "colab": {
          "base_uri": "https://localhost:8080/",
          "height": 454
        },
        "id": "sL2KBwyPnVAS",
        "outputId": "e65b346e-b953-44a9-8da1-e015a88c0a57"
      },
      "execution_count": 11,
      "outputs": [
        {
          "output_type": "display_data",
          "data": {
            "text/plain": [
              "<Figure size 504x504 with 2 Axes>"
            ],
            "image/png": "[encoded data removed]"
          },
          "metadata": {
            "needs_background": "light"
          }
        }
      ]
    },
    {
      "cell_type": "markdown",
      "source": [
        "It seems there are strong correlation between obscence, insult and toxic category"
      ],
      "metadata": {
        "id": "HnPGIVQ-RSZp"
      }
    },
    {
      "cell_type": "markdown",
      "source": [
        "### Perform MLSMOTE operation to balance the data"
      ],
      "metadata": {
        "id": "FXJqoAlaVpGs"
      }
    },
    {
      "cell_type": "code",
      "source": [
        "# def get_tail_label(df):\n",
        "#     \"\"\"\n",
        "#     Give tail label colums of the given target dataframe\n",
        "    \n",
        "#     args\n",
        "#     df: pandas.DataFrame, target label df whose tail label has to identified\n",
        "    \n",
        "#     return\n",
        "#     tail_label: list, a list containing column name of all the tail label\n",
        "#     \"\"\"\n",
        "#     columns = df.columns\n",
        "#     n = len(columns)\n",
        "#     irpl = np.zeros(n)\n",
        "#     for column in range(n):\n",
        "#         irpl[column] = df[columns[column]].value_counts()[1]\n",
        "#     irpl = max(irpl)/irpl\n",
        "#     mir = np.average(irpl)\n",
        "#     tail_label = []\n",
        "#     for i in range(n):\n",
        "#         if irpl[i] > mir:\n",
        "#             tail_label.append(columns[i])\n",
        "#     return tail_label\n",
        "\n",
        "# def get_index(df):\n",
        "#   \"\"\"\n",
        "#   give the index of all tail_label rows\n",
        "#   args\n",
        "#   df: pandas.DataFrame, target label df from which index for tail label has to identified\n",
        "    \n",
        "#   return\n",
        "#   index: list, a list containing index number of all the tail label\n",
        "#   \"\"\"\n",
        "#   tail_labels = get_tail_label(df)\n",
        "#   index = set()\n",
        "#   for tail_label in tail_labels:\n",
        "#     sub_index = set(df[df[tail_label]==1].index)\n",
        "#     index = index.union(sub_index)\n",
        "#   return list(index)\n",
        "\n",
        "# def get_minority_instace(X, y):\n",
        "#     \"\"\"\n",
        "#     Give minority dataframe containing all the tail labels\n",
        "    \n",
        "#     args\n",
        "#     X: pandas.DataFrame, the feature vector dataframe\n",
        "#     y: pandas.DataFrame, the target vector dataframe\n",
        "    \n",
        "#     return\n",
        "#     X_sub: pandas.DataFrame, the feature vector minority dataframe\n",
        "#     y_sub: pandas.DataFrame, the target vector minority dataframe\n",
        "#     \"\"\"\n",
        "#     index = get_index(y)\n",
        "#     X_sub = X[X.index.isin(index)].reset_index(drop = True)\n",
        "#     y_sub = y[y.index.isin(index)].reset_index(drop = True)\n",
        "#     return X_sub, y_sub\n",
        "\n",
        "# def nearest_neighbour(X):\n",
        "#     \"\"\"\n",
        "#     Give index of 5 nearest neighbor of all the instance\n",
        "    \n",
        "#     args\n",
        "#     X: np.array, array whose nearest neighbor has to find\n",
        "    \n",
        "#     return\n",
        "#     indices: list of list, index of 5 NN of each element in X\n",
        "#     \"\"\"\n",
        "#     nbs = NearestNeighbors(n_neighbors=5,metric='euclidean',algorithm='kd_tree').fit(X)\n",
        "#     euclidean,indices= nbs.kneighbors(X)\n",
        "#     return indices\n",
        "\n",
        "# def MLSMOTE(X,y, n_sample):\n",
        "#     \"\"\"\n",
        "#     Give the augmented data using MLSMOTE algorithm\n",
        "    \n",
        "#     args\n",
        "#     X: pandas.DataFrame, input vector DataFrame\n",
        "#     y: pandas.DataFrame, feature vector dataframe\n",
        "#     n_sample: int, number of newly generated sample\n",
        "    \n",
        "#     return\n",
        "#     new_X: pandas.DataFrame, augmented feature vector data\n",
        "#     target: pandas.DataFrame, augmented target vector data\n",
        "#     \"\"\"\n",
        "#     indices2 = nearest_neighbour(X)\n",
        "#     n = len(indices2)\n",
        "#     new_X = np.zeros((n_sample, X.shape[1]))\n",
        "#     target = np.zeros((n_sample, y.shape[1]))\n",
        "#     for i in range(n_sample):\n",
        "#         reference = random.randint(0,n-1)\n",
        "#         neighbour = random.choice(indices2[reference,1:])\n",
        "#         all_point = indices2[reference]\n",
        "#         nn_df = y[y.index.isin(all_point)]\n",
        "#         ser = nn_df.sum(axis = 0, skipna = True)\n",
        "#         target[i] = np.array([1 if val>2 else 0 for val in ser])\n",
        "#         ratio = random.random()\n",
        "#         gap = X.loc[reference,:] - X.loc[neighbour,:]\n",
        "#         new_X[i] = np.array(X.loc[reference,:] + ratio * gap)\n",
        "#     new_X = pd.DataFrame(new_X, columns=X.columns)\n",
        "#     target = pd.DataFrame(target, columns=y.columns)\n",
        "#     new_X = pd.concat([X, new_X], axis=0)\n",
        "#     target = pd.concat([y, target], axis=0)\n",
        "#     return new_X, target\n",
        "\n",
        "# X = df.comment_text\n",
        "# y = df.drop(['id', 'comment_text'], axis = 1)\n",
        "# # X, y = create_dataset()\n",
        "# X_sub, y_sub = get_minority_instace(X, y)\n",
        "# X_res,y_res =MLSMOTE(X_sub, y_sub, 100)\n"
      ],
      "metadata": {
        "id": "cRyE_FaITaNG"
      },
      "execution_count": 12,
      "outputs": []
    },
    {
      "cell_type": "code",
      "source": [
        "# # DO NOT RUN THIS CELL. IT TAKES 15 MINS\n",
        "# import spacy\n",
        "# import en_core_web_sm\n",
        "# nlp = en_core_web_sm.load()\n",
        "# nonstop_tokens = []\n",
        "# for doc in nlp.pipe(df['comment_text'].astype('unicode').values, batch_size=50):\n",
        "#   if doc.has_annotation(\"DEP\"):\n",
        "#     nonstop_tokens.append([t.lower_ for t in doc if t.is_alpha and not t.is_stop])\n",
        "#   else:\n",
        "#     nonstop_tokens.append(None)\n",
        "# df['nonstop_tokens'] = nonstop_tokens\n",
        "\n"
      ],
      "metadata": {
        "id": "AxQ1JpYcnXoD"
      },
      "execution_count": 13,
      "outputs": []
    },
    {
      "cell_type": "code",
      "source": [
        "# # Most frequent words for each category\n",
        "# for label in cols_target:\n",
        "#     word_list = list(df.loc[df[label]==1, 'nonstop_tokens'].explode())\n",
        "#     most_common = collections.Counter(word_list).most_common(20)\n",
        "#     words = [w for w,_ in most_common]\n",
        "#     counts = [c for _,c in most_common]\n",
        "#     plt.figure(figsize=(20, 10))\n",
        "#     ax = sns.barplot(x=words, y=counts, palette=['r', 'g'])\n",
        "#     # ax.color_palette(\"rocket\", as_cmap=True)\n",
        "#     ax.set_title(f'Label = {label}', fontsize=15)\n",
        "#     ax.tick_params(labelsize=15)\n",
        "#     ax.set_xticklabels(ax.get_xticklabels(),rotation = 30)"
      ],
      "metadata": {
        "id": "em_LhfGmnZFK"
      },
      "execution_count": 14,
      "outputs": []
    },
    {
      "cell_type": "markdown",
      "source": [
        "### Data Cleaning operations"
      ],
      "metadata": {
        "id": "ufSWxWyKSMg_"
      }
    },
    {
      "cell_type": "code",
      "source": [
        "# Remove stope words from comment_text\n",
        "df['comment_text'] = df['comment_text'].str.lower()\n",
        "stopwordlist = ['a', 'about', 'above', 'after', 'again', 'ain', 'all', 'am', 'an',\n",
        "             'and','any','are', 'as', 'at', 'be', 'because', 'been', 'before',\n",
        "             'being', 'below', 'between','both', 'by', 'can', 'd', 'did', 'do',\n",
        "             'does', 'doing', 'down', 'during', 'each','few', 'for', 'from',\n",
        "             'further', 'had', 'has', 'have', 'having', 'he', 'her', 'here',\n",
        "             'hers', 'herself', 'him', 'himself', 'his', 'how', 'i', 'if', 'in',\n",
        "             'into','is', 'it', 'its', 'itself', 'just', 'll', 'm', 'ma',\n",
        "             'me', 'more', 'most','my', 'myself', 'now', 'o', 'of', 'on', 'once',\n",
        "             'only', 'or', 'other', 'our', 'ours','ourselves', 'out', 'own', 're','s', 'same', 'she', \"shes\", 'should', \"shouldve\",'so', 'some', 'such',\n",
        "             't', 'than', 'that', \"thatll\", 'the', 'their', 'theirs', 'them',\n",
        "             'themselves', 'then', 'there', 'these', 'they', 'this', 'those',\n",
        "             'through', 'to', 'too','under', 'until', 'up', 've', 'very', 'was',\n",
        "             'we', 'were', 'what', 'when', 'where','which','while', 'who', 'whom',\n",
        "             'why', 'will', 'with', 'won', 'y', 'you', \"youd\",\"youll\", \"youre\",\n",
        "             \"youve\", 'your', 'yours', 'yourself', 'yourselves']\n",
        "STOPWORDS = set(stopwordlist)\n",
        "def cleaning_stopwords(text):\n",
        "    return \" \".join([word for word in str(text).split() if word not in STOPWORDS]\n",
        "                   )\n",
        "df['comment_text'] = df['comment_text'].apply(lambda text: cleaning_stopwords(text))\n",
        "df['comment_text'].head()"
      ],
      "metadata": {
        "colab": {
          "base_uri": "https://localhost:8080/"
        },
        "id": "5VcYnqDJ9xkJ",
        "outputId": "fcdb6233-506a-4214-b62e-1a55895b05ad"
      },
      "execution_count": 15,
      "outputs": [
        {
          "output_type": "execute_result",
          "data": {
            "text/plain": [
              "0    explanation edits made username hardcore metal...\n",
              "1    d'aww! matches background colour i'm seemingly...\n",
              "2    hey man, i'm really not trying edit war. it's ...\n",
              "3    \" can't make real suggestions improvement - wo...\n",
              "4      you, sir, hero. chance remember page that's on?\n",
              "Name: comment_text, dtype: object"
            ]
          },
          "metadata": {},
          "execution_count": 15
        }
      ]
    },
    {
      "cell_type": "code",
      "source": [
        "# Remove special characters from comment_text\n",
        "import string\n",
        "english_punctuations = string.punctuation\n",
        "punctuations_list = english_punctuations\n",
        "def cleaning_punctuations(text):\n",
        "    translator = str.maketrans('', '', punctuations_list)\n",
        "    return text.translate(translator)\n",
        "\n",
        "df['comment_text'] = df['comment_text'].apply(lambda x: cleaning_punctuations(x))\n",
        "df['comment_text'].head()"
      ],
      "metadata": {
        "colab": {
          "base_uri": "https://localhost:8080/"
        },
        "id": "amUGj95i92VT",
        "outputId": "8aa55dd7-e82b-4693-8076-4b0c279b66e9"
      },
      "execution_count": 16,
      "outputs": [
        {
          "output_type": "execute_result",
          "data": {
            "text/plain": [
              "0    explanation edits made username hardcore metal...\n",
              "1    daww matches background colour im seemingly st...\n",
              "2    hey man im really not trying edit war its guy ...\n",
              "3     cant make real suggestions improvement  wonde...\n",
              "4           you sir hero chance remember page thats on\n",
              "Name: comment_text, dtype: object"
            ]
          },
          "metadata": {},
          "execution_count": 16
        }
      ]
    },
    {
      "cell_type": "code",
      "source": [
        "# Remove repeating characters from comment_text\n",
        "import re\n",
        "def cleaning_repeating_char(text):\n",
        "    return re.sub(r'(.)1+', r'1', text)\n",
        "df['comment_text'] = df['comment_text'].apply(lambda x: cleaning_repeating_char(x))\n",
        "df['comment_text'].tail()"
      ],
      "metadata": {
        "colab": {
          "base_uri": "https://localhost:8080/"
        },
        "id": "MTNHoUSA9-WI",
        "outputId": "75ed1427-3a91-46c5-fb68-e18beedfabdf"
      },
      "execution_count": 17,
      "outputs": [
        {
          "output_type": "execute_result",
          "data": {
            "text/plain": [
              "159566    and second time asking view completely contrad...\n",
              "159567          ashamed horrible thing put talk page1281993\n",
              "159568    spitzer umm theres no actual article prostitut...\n",
              "159569    looks like actually put speedy first version d...\n",
              "159570      really dont think understand came idea bad r...\n",
              "Name: comment_text, dtype: object"
            ]
          },
          "metadata": {},
          "execution_count": 17
        }
      ]
    },
    {
      "cell_type": "code",
      "source": [
        "# Remove URLs from comment_text\n",
        "def cleaning_URLs(data):\n",
        "    return re.sub('((www.[^s]+)|(https?://[^s]+))',' ',data)\n",
        "df['comment_text'] =df['comment_text'].apply(lambda x: cleaning_URLs(x))\n",
        "df['comment_text'].tail()"
      ],
      "metadata": {
        "colab": {
          "base_uri": "https://localhost:8080/"
        },
        "id": "SwVaC0CY-Aaz",
        "outputId": "879bf66c-187e-4ce8-a7de-22e1ca7d9920"
      },
      "execution_count": 18,
      "outputs": [
        {
          "output_type": "execute_result",
          "data": {
            "text/plain": [
              "159566    and second time asking view completely contrad...\n",
              "159567          ashamed horrible thing put talk page1281993\n",
              "159568    spitzer umm theres no actual article prostitut...\n",
              "159569    looks like actually put speedy first version d...\n",
              "159570      really dont think understand came idea bad r...\n",
              "Name: comment_text, dtype: object"
            ]
          },
          "metadata": {},
          "execution_count": 18
        }
      ]
    },
    {
      "cell_type": "code",
      "source": [
        "# Remove numbers from comment_text\n",
        "def cleaning_numbers(data):\n",
        "    return re.sub('[0-9]+', '', data)\n",
        "df['comment_text'] = df['comment_text'].apply(lambda x: cleaning_numbers(x))\n",
        "df['comment_text'].tail()"
      ],
      "metadata": {
        "colab": {
          "base_uri": "https://localhost:8080/"
        },
        "id": "wn34RTG5-HjH",
        "outputId": "629c49f4-e4eb-4c9d-84f8-4aab25e7bf5a"
      },
      "execution_count": 19,
      "outputs": [
        {
          "output_type": "execute_result",
          "data": {
            "text/plain": [
              "159566    and second time asking view completely contrad...\n",
              "159567                 ashamed horrible thing put talk page\n",
              "159568    spitzer umm theres no actual article prostitut...\n",
              "159569    looks like actually put speedy first version d...\n",
              "159570      really dont think understand came idea bad r...\n",
              "Name: comment_text, dtype: object"
            ]
          },
          "metadata": {},
          "execution_count": 19
        }
      ]
    },
    {
      "cell_type": "code",
      "source": [
        "# from nltk.tokenize import RegexpTokenizer\n",
        "# tokenizer = RegexpTokenizer(r'\\w+')\n",
        "# df['comment_text']= df['comment_text'].apply(tokenizer.tokenize)\n",
        "# df['comment_text'].head()\n"
      ],
      "metadata": {
        "id": "jT4fW-Sw-Jlm"
      },
      "execution_count": 20,
      "outputs": []
    },
    {
      "cell_type": "code",
      "source": [
        "# from sklearn.feature_extraction.text import CountVectorizer\n",
        "# m1 = CountVectorizer()\n",
        "# x = m1.fit_transform(df[\"comment_text\"])"
      ],
      "metadata": {
        "id": "S06Gj4bZ_XmW"
      },
      "execution_count": 21,
      "outputs": []
    },
    {
      "cell_type": "markdown",
      "source": [
        "### Split into train/test sets"
      ],
      "metadata": {
        "id": "v6ME2ntUS1vz"
      }
    },
    {
      "cell_type": "code",
      "source": [
        "from sklearn.model_selection import train_test_split\n",
        "X = df.comment_text\n",
        "y = df.drop(['id', 'comment_text'], axis = 1)\n",
        "\n",
        "X_train,X_test, y_train,y_test= train_test_split(X,y,test_size=0.2, random_state=1) #stratify=y"
      ],
      "metadata": {
        "id": "fXCG5LMu_gFO"
      },
      "execution_count": 22,
      "outputs": []
    },
    {
      "cell_type": "markdown",
      "source": [
        "### Prepare TF-IDF vectors"
      ],
      "metadata": {
        "id": "fWgDHvYHTT82"
      }
    },
    {
      "cell_type": "code",
      "source": [
        "from sklearn.feature_extraction.text import TfidfVectorizer\n",
        "word_vectorizer = TfidfVectorizer(\n",
        "    strip_accents='unicode',     \n",
        "    analyzer='word',            \n",
        "    token_pattern=r'\\w{1,}',    \n",
        "    ngram_range=(1, 3),         \n",
        "    stop_words='english',\n",
        "    sublinear_tf=True)\n",
        "\n",
        "word_vectorizer.fit(X_train)    \n",
        "train_word_features = word_vectorizer.transform(X_train)"
      ],
      "metadata": {
        "id": "N3c9wTe2vOTl"
      },
      "execution_count": 23,
      "outputs": []
    },
    {
      "cell_type": "code",
      "source": [
        "word_vectorizer.get_params()"
      ],
      "metadata": {
        "colab": {
          "base_uri": "https://localhost:8080/"
        },
        "id": "dQskeLAnxQ5B",
        "outputId": "7591796f-8e36-4a1b-def8-c3ff60687e51"
      },
      "execution_count": 24,
      "outputs": [
        {
          "output_type": "execute_result",
          "data": {
            "text/plain": [
              "{'analyzer': 'word',\n",
              " 'binary': False,\n",
              " 'decode_error': 'strict',\n",
              " 'dtype': numpy.float64,\n",
              " 'encoding': 'utf-8',\n",
              " 'input': 'content',\n",
              " 'lowercase': True,\n",
              " 'max_df': 1.0,\n",
              " 'max_features': None,\n",
              " 'min_df': 1,\n",
              " 'ngram_range': (1, 3),\n",
              " 'norm': 'l2',\n",
              " 'preprocessor': None,\n",
              " 'smooth_idf': True,\n",
              " 'stop_words': 'english',\n",
              " 'strip_accents': 'unicode',\n",
              " 'sublinear_tf': True,\n",
              " 'token_pattern': '\\\\w{1,}',\n",
              " 'tokenizer': None,\n",
              " 'use_idf': True,\n",
              " 'vocabulary': None}"
            ]
          },
          "metadata": {},
          "execution_count": 24
        }
      ]
    },
    {
      "cell_type": "code",
      "source": [
        "X_train_transformed = word_vectorizer.transform(X_train)\n",
        "x_test_transformed = word_vectorizer.transform(X_test)\n",
        "# print(x_test_transformed)"
      ],
      "metadata": {
        "id": "a9Wt1QIJwDQx"
      },
      "execution_count": 25,
      "outputs": []
    },
    {
      "cell_type": "markdown",
      "source": [
        "## Approach 1: Adapted Algorithm"
      ],
      "metadata": {
        "id": "D0qQLDBvTceJ"
      }
    },
    {
      "cell_type": "code",
      "source": [
        "# Logistic regression based on TF-IDF\n",
        "\n",
        "lr_classifier = LogisticRegression(C = 10, penalty='l2', solver = 'liblinear', random_state=45)\n",
        "\n",
        "classifier = OneVsRestClassifier(lr_classifier)\n",
        "classifier.fit(X_train_transformed, y_train)\n",
        "\n",
        "y_train_pred_proba = classifier.predict_proba(X_train_transformed)\n",
        "y_test_pred_proba = classifier.predict_proba(x_test_transformed)\n"
      ],
      "metadata": {
        "id": "veMl5n1VwFBh"
      },
      "execution_count": 26,
      "outputs": []
    },
    {
      "cell_type": "markdown",
      "source": [
        "### Model evaluation "
      ],
      "metadata": {
        "id": "IlQuORQxTicI"
      }
    },
    {
      "cell_type": "code",
      "source": [
        "# roc_auc_score_train = roc_auc_score(y_train, y_train_pred_proba,average='weighted')\n",
        "roc_auc_score_test = roc_auc_score(y_test, y_test_pred_proba,average='weighted')\n",
        "\n",
        "# print(\"ROC AUC Score Train:\", roc_auc_score_train)\n",
        "print(\"ROC AUC Score weighted score:\", roc_auc_score_test)\n",
        "\n",
        "roc_auc_score_test = roc_auc_score(y_test, y_test_pred_proba,average='weighted')\n",
        "print(\"ROC AUC Score for all class:\", roc_auc_score_test)"
      ],
      "metadata": {
        "colab": {
          "base_uri": "https://localhost:8080/"
        },
        "id": "jl0mackexcMw",
        "outputId": "67c457b6-3fef-4188-802d-ce2920a964dd"
      },
      "execution_count": 27,
      "outputs": [
        {
          "output_type": "stream",
          "name": "stdout",
          "text": [
            "ROC AUC Score weighted score: 0.9789050986953947\n",
            "ROC AUC Score for all class: 0.9789050986953947\n"
          ]
        }
      ]
    },
    {
      "cell_type": "markdown",
      "source": [
        "# Approach 2: Label Power set\n",
        "\n",
        "- It assigns unique label for each combinations of output labels\n",
        "- Trade-off: Number of training data increases -> Number of classes/labels will increase"
      ],
      "metadata": {
        "id": "o9sk0yO4LDIJ"
      }
    },
    {
      "cell_type": "code",
      "source": [
        "# from skmultilearn.problem_transform import LabelPowerset\n",
        "# from sklearn.naive_bayes import GaussianNB\n",
        "\n",
        "# # initialize Label Powerset multi-label classifier\n",
        "# # with a gaussian naive bayes base classifier\n",
        "# classifier = LabelPowerset(GaussianNB())\n",
        "\n",
        "# # train\n",
        "# classifier.fit(X_train_transformed, y_train)\n",
        "\n",
        "# # predict\n",
        "# predictions = classifier.predict(x_test_transformed)\n",
        "\n",
        "# accuracy_score(y_test,predictions)"
      ],
      "metadata": {
        "id": "jwHiP32JLCDG"
      },
      "execution_count": null,
      "outputs": []
    },
    {
      "cell_type": "markdown",
      "source": [
        "## Approach 3 : Binary Relevance\n",
        "- Treat each label as seperate classification problem"
      ],
      "metadata": {
        "id": "a8XLoMASZ3CT"
      }
    },
    {
      "cell_type": "code",
      "source": [
        "logreg = LogisticRegression(C=12.0)\n",
        "\n",
        "for label in cols_target:\n",
        "    print('... Processing {}'.format(label))\n",
        "    y = y_train[label]\n",
        "    y_te = y_test[label]\n",
        "    logreg = logreg.fit(X_train_transformed, y)\n",
        "    y_pred_X = logreg.predict(X_train_transformed)\n",
        "    y_pred_test = logreg.predict(x_test_transformed)\n",
        "    print('Training accuracy is {}'.format(accuracy_score(y, y_pred_X)))\n",
        "    print(classification_report(y, y_pred_X))\n",
        "    print('Testing accuracy is {}'.format(accuracy_score(y_te, y_pred_test)))\n",
        "    print(classification_report(y_te, y_pred_test))\n",
        "    test_y_prob = logreg.predict_proba(X_train_transformed)[:,1] # compute the predicted probabilities for X_test_transformed"
      ],
      "metadata": {
        "id": "k6SeANU9LCmr",
        "colab": {
          "base_uri": "https://localhost:8080/",
          "height": 242
        },
        "outputId": "b22c9bfe-b244-463f-e6d6-dddbd7ace1b4"
      },
      "execution_count": 1,
      "outputs": [
        {
          "output_type": "error",
          "ename": "NameError",
          "evalue": "ignored",
          "traceback": [
            "\u001b[0;31m---------------------------------------------------------------------------\u001b[0m",
            "\u001b[0;31mNameError\u001b[0m                                 Traceback (most recent call last)",
            "\u001b[0;32m<ipython-input-1-8e64708f899b>\u001b[0m in \u001b[0;36m<module>\u001b[0;34m()\u001b[0m\n\u001b[0;32m----> 1\u001b[0;31m \u001b[0mlogreg\u001b[0m \u001b[0;34m=\u001b[0m \u001b[0mLogisticRegression\u001b[0m\u001b[0;34m(\u001b[0m\u001b[0mC\u001b[0m\u001b[0;34m=\u001b[0m\u001b[0;36m12.0\u001b[0m\u001b[0;34m)\u001b[0m\u001b[0;34m\u001b[0m\u001b[0;34m\u001b[0m\u001b[0m\n\u001b[0m\u001b[1;32m      2\u001b[0m \u001b[0;34m\u001b[0m\u001b[0m\n\u001b[1;32m      3\u001b[0m \u001b[0;32mfor\u001b[0m \u001b[0mlabel\u001b[0m \u001b[0;32min\u001b[0m \u001b[0mcols_target\u001b[0m\u001b[0;34m:\u001b[0m\u001b[0;34m\u001b[0m\u001b[0;34m\u001b[0m\u001b[0m\n\u001b[1;32m      4\u001b[0m     \u001b[0mprint\u001b[0m\u001b[0;34m(\u001b[0m\u001b[0;34m'... Processing {}'\u001b[0m\u001b[0;34m.\u001b[0m\u001b[0mformat\u001b[0m\u001b[0;34m(\u001b[0m\u001b[0mlabel\u001b[0m\u001b[0;34m)\u001b[0m\u001b[0;34m)\u001b[0m\u001b[0;34m\u001b[0m\u001b[0;34m\u001b[0m\u001b[0m\n\u001b[1;32m      5\u001b[0m     \u001b[0my\u001b[0m \u001b[0;34m=\u001b[0m \u001b[0my_train\u001b[0m\u001b[0;34m[\u001b[0m\u001b[0mlabel\u001b[0m\u001b[0;34m]\u001b[0m\u001b[0;34m\u001b[0m\u001b[0;34m\u001b[0m\u001b[0m\n",
            "\u001b[0;31mNameError\u001b[0m: name 'LogisticRegression' is not defined"
          ]
        }
      ]
    }
  ]
}